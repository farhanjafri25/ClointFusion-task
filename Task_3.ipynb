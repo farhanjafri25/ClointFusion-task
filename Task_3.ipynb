{
  "nbformat": 4,
  "nbformat_minor": 0,
  "metadata": {
    "colab": {
      "name": "Task 3.ipynb",
      "provenance": [],
      "collapsed_sections": [],
      "authorship_tag": "ABX9TyPKZU3Pw1nXvlbMUwvTUrJv",
      "include_colab_link": true
    },
    "kernelspec": {
      "name": "python3",
      "display_name": "Python 3"
    },
    "language_info": {
      "name": "python"
    }
  },
  "cells": [
    {
      "cell_type": "markdown",
      "metadata": {
        "id": "view-in-github",
        "colab_type": "text"
      },
      "source": [
        "<a href=\"https://colab.research.google.com/github/farhanjafri25/ClointFusion-task/blob/main/Task_3.ipynb\" target=\"_parent\"><img src=\"https://colab.research.google.com/assets/colab-badge.svg\" alt=\"Open In Colab\"/></a>"
      ]
    },
    {
      "cell_type": "code",
      "metadata": {
        "id": "15wM9Exl7Ri1"
      },
      "source": [
        "import ClointFusion as cf"
      ],
      "execution_count": 581,
      "outputs": []
    },
    {
      "cell_type": "code",
      "metadata": {
        "id": "wiDzUr8vjGw2"
      },
      "source": [
        "import time"
      ],
      "execution_count": 582,
      "outputs": []
    },
    {
      "cell_type": "code",
      "metadata": {
        "id": "2JEvAYDx_GKj"
      },
      "source": [
        "import cryptocode"
      ],
      "execution_count": 583,
      "outputs": []
    },
    {
      "cell_type": "code",
      "metadata": {
        "id": "jJVJG2Fk-7cN"
      },
      "source": [
        "email = cf.gui_get_any_input_from_user('Enter EMail') #Enter the outlook Email"
      ],
      "execution_count": 584,
      "outputs": []
    },
    {
      "cell_type": "code",
      "metadata": {
        "id": "P99QRdzy_KWg"
      },
      "source": [
        "password = cf.gui_get_any_input_from_user(\"Password\",password=True) #Outlook password"
      ],
      "execution_count": 585,
      "outputs": []
    },
    {
      "cell_type": "code",
      "metadata": {
        "id": "VEdhiy9ZJZSU"
      },
      "source": [
        "fl = cf.gui_get_any_file_from_user() #Enter the original File"
      ],
      "execution_count": 586,
      "outputs": []
    },
    {
      "cell_type": "code",
      "metadata": {
        "id": "2XRh4M46iFFt"
      },
      "source": [
        "fl2 = cf.gui_get_any_file_from_user() #Enter the file path to copy paste and make changes"
      ],
      "execution_count": 587,
      "outputs": []
    },
    {
      "cell_type": "code",
      "metadata": {
        "id": "_P8XOomfeEdG"
      },
      "source": [
        "path = cf.gui_get_any_input_from_user() #Enter the file path"
      ],
      "execution_count": 588,
      "outputs": []
    },
    {
      "cell_type": "code",
      "metadata": {
        "id": "9PkNaFZZK1D2"
      },
      "source": [
        "header = cf.excel_get_all_header_columns(fl) #Gets all header column"
      ],
      "execution_count": 589,
      "outputs": []
    },
    {
      "cell_type": "code",
      "metadata": {
        "colab": {
          "base_uri": "https://localhost:8080/"
        },
        "id": "I_ulE3hQLjex",
        "outputId": "5228e0a1-040d-493e-a844-2d7d27969b43"
      },
      "source": [
        "cf.launch_any_exe_bat_application(fl) # launches the original file and Iterate to region column to filter out Central \n",
        "col = 'Region'\n",
        "for x in range(len(header)):\n",
        "  if(col == header[x]):\n",
        "    print(col)\n",
        "    break\n",
        "  else:\n",
        "    cf.key_press('Right')"
      ],
      "execution_count": 590,
      "outputs": [
        {
          "output_type": "stream",
          "text": [
            "Region\n"
          ],
          "name": "stdout"
        }
      ]
    },
    {
      "cell_type": "code",
      "metadata": {
        "id": "YM1kTh73bGal"
      },
      "source": [
        "cf.key_press('ctrl+shift+L') #Enters the Central as the filter \n",
        "cf.key_press('alt+Down')\n",
        "cf.key_press('E')\n",
        "cf.key_write_enter('Central')"
      ],
      "execution_count": 591,
      "outputs": []
    },
    {
      "cell_type": "code",
      "metadata": {
        "id": "k6LMrseThYkq"
      },
      "source": [
        "cf.key_press('ctrl+home') #Pointer goes back to first cell\n",
        "cf.key_press('ctrl+shift+end')\n",
        "cf.key_press('ctrl+C')\n",
        "cf.window_close_windows('excel file')"
      ],
      "execution_count": 592,
      "outputs": []
    },
    {
      "cell_type": "code",
      "metadata": {
        "id": "NfFWMQ5kjJw_"
      },
      "source": [
        "time.sleep(3)"
      ],
      "execution_count": 593,
      "outputs": []
    },
    {
      "cell_type": "code",
      "metadata": {
        "id": "FDk2mr3HiTtn"
      },
      "source": [
        "cf.launch_any_exe_bat_application(fl2) #Launches the file \n",
        "time.sleep(2)\n",
        "\n"
      ],
      "execution_count": 594,
      "outputs": []
    },
    {
      "cell_type": "code",
      "metadata": {
        "id": "wgmtnFSMpqri"
      },
      "source": [
        "cf.key_press('ctrl+home') #Goes to the first cell if pointer is anywhere else"
      ],
      "execution_count": 595,
      "outputs": []
    },
    {
      "cell_type": "code",
      "metadata": {
        "id": "YEHcs8wPp1pD"
      },
      "source": [
        "time.sleep(2)"
      ],
      "execution_count": 596,
      "outputs": []
    },
    {
      "cell_type": "code",
      "metadata": {
        "id": "lT6RtUpXpAPO"
      },
      "source": [
        "cf.key_press('ctrl+V') #Applies the border to all cells\n",
        "cf.key_press('alt+H')\n",
        "cf.key_press('B')\n",
        "cf.key_press('A')\n",
        "cf.key_press('Up')\n",
        "cf.key_press('ctrl+S')"
      ],
      "execution_count": 597,
      "outputs": []
    },
    {
      "cell_type": "code",
      "metadata": {
        "id": "iEaY4fJQQg0L"
      },
      "source": [
        ""
      ],
      "execution_count": 597,
      "outputs": []
    },
    {
      "cell_type": "code",
      "metadata": {
        "id": "fniXpa8DwjO_"
      },
      "source": [
        "header2 = cf.excel_get_all_header_columns(fl2)"
      ],
      "execution_count": 598,
      "outputs": []
    },
    {
      "cell_type": "code",
      "metadata": {
        "id": "g83n4hJozb6R"
      },
      "source": [
        "time.sleep(2)"
      ],
      "execution_count": 599,
      "outputs": []
    },
    {
      "cell_type": "code",
      "metadata": {
        "colab": {
          "base_uri": "https://localhost:8080/"
        },
        "id": "bvJz4jhoj-_k",
        "outputId": "5bc09904-4af2-4de9-fc1b-3bdf3b497d47"
      },
      "source": [
        "col2 = 'Total' #Iterates to Total column\n",
        "x = 0\n",
        "for x in range(len(header2)):\n",
        "  if(col2 == header2[x]):\n",
        "    print(col2)\n",
        "    break\n",
        "  else:\n",
        "    cf.key_press('Right')"
      ],
      "execution_count": 600,
      "outputs": [
        {
          "output_type": "stream",
          "text": [
            "Total\n"
          ],
          "name": "stdout"
        }
      ]
    },
    {
      "cell_type": "code",
      "metadata": {
        "id": "aiItXSawzP1O"
      },
      "source": [
        "time.sleep(3)"
      ],
      "execution_count": 601,
      "outputs": []
    },
    {
      "cell_type": "code",
      "metadata": {
        "id": "PBbKFbs7Qgkf"
      },
      "source": [
        ""
      ],
      "execution_count": 601,
      "outputs": []
    },
    {
      "cell_type": "code",
      "metadata": {
        "id": "jVMQ91Y_j-yd"
      },
      "source": [
        "cf.key_press('ctrl+shift+Down') #sorts the columns and apply conditional formatting\n",
        "cf.key_press('alt+H')\n",
        "cf.key_press('S')\n",
        "cf.key_press('S')\n",
        "cf.key_hit_enter()\n",
        "cf.key_press('alt+H')\n",
        "cf.key_press('L')\n",
        "cf.key_press('S')\n",
        "cf.key_hit_enter()\n",
        "cf.key_press('ctrl+S')"
      ],
      "execution_count": 602,
      "outputs": []
    },
    {
      "cell_type": "code",
      "metadata": {
        "id": "wfctwRk2PUzH"
      },
      "source": [
        "cf.key_press('ctrl+home') #Copies the whole file\n",
        "cf.key_press('ctrl+shift+end')\n",
        "cf.key_press('ctrl+C')\n",
        "cf.window_close_windows('Excel')\n",
        "cf.key_hit_enter()"
      ],
      "execution_count": 603,
      "outputs": []
    },
    {
      "cell_type": "code",
      "metadata": {
        "colab": {
          "base_uri": "https://localhost:8080/",
          "height": 33
        },
        "id": "8mRKO-WYj-vL",
        "outputId": "ab9b3b78-2899-4028-f599-f38dd5212e91"
      },
      "source": [
        "#launches outlook login\n",
        "cf.launch_website_h('https://login.live.com/login.srf?wa=wsignin1.0&rpsnv=13&ct=1622114510&rver=7.0.6737.0&wp=MBI_SSL&wreply=https%3a%2f%2foutlook.live.com%2fowa%2f%3fnlp%3d1%26RpsCsrfState%3dc4b89f24-704c-8162-2969-d8c4e25fe059&id=292841&aadredir=1&whr=outlook.com&CBCXT=out&lw=1&fl=dob%2cflname%2cwld&cobrandid=90015')"
      ],
      "execution_count": 604,
      "outputs": [
        {
          "output_type": "display_data",
          "data": {
            "text/plain": [
              "\u001b[3;92mTrue\u001b[0m\n"
            ],
            "text/html": [
              "<pre style=\"white-space:pre;overflow-x:auto;line-height:normal;font-family:Menlo,'DejaVu Sans Mono',consolas,'Courier New',monospace\"><span style=\"color: #00ff00; text-decoration-color: #00ff00; font-style: italic\">True</span>\n",
              "</pre>\n"
            ]
          },
          "metadata": {
            "tags": []
          }
        }
      ]
    },
    {
      "cell_type": "code",
      "metadata": {
        "id": "WdvwUVqD-2l3"
      },
      "source": [
        "cf.browser_write_h(email,User_Visible_Text_Element='Email, phone, or Skype') #Enters email and password\n",
        "cf.browser_mouse_click_h('Next')\n",
        "cf.browser_write_h(password, User_Visible_Text_Element='Password')"
      ],
      "execution_count": 605,
      "outputs": []
    },
    {
      "cell_type": "code",
      "metadata": {
        "id": "SvJkYDY6-jwg"
      },
      "source": [
        "cf.browser_mouse_click_h('Sign in')"
      ],
      "execution_count": 606,
      "outputs": []
    },
    {
      "cell_type": "code",
      "metadata": {
        "id": "VJwezkybl2Ys"
      },
      "source": [
        "time.sleep(4)"
      ],
      "execution_count": 607,
      "outputs": []
    },
    {
      "cell_type": "code",
      "metadata": {
        "id": "BDieEOC--jtM"
      },
      "source": [
        "compose = cf.browser_locate_element_h('//*[@id=\"id__7\"]') #CLicks on compose button\n",
        "cf.browser_mouse_click_h(compose)"
      ],
      "execution_count": 608,
      "outputs": []
    },
    {
      "cell_type": "code",
      "metadata": {
        "id": "qalRTQ8_-jqq"
      },
      "source": [
        "cf.browser_write_h('farhanjafri8@gmail.com',User_Visible_Text_Element='To') #Enters the recipient email and Cc\n",
        "cf.key_hit_enter()"
      ],
      "execution_count": 609,
      "outputs": []
    },
    {
      "cell_type": "code",
      "metadata": {
        "id": "8LvZKYj4-joD"
      },
      "source": [
        "cf.key_press('tab')"
      ],
      "execution_count": 610,
      "outputs": []
    },
    {
      "cell_type": "code",
      "metadata": {
        "id": "ZmM-eErzlBSI"
      },
      "source": [
        "cf.key_hit_enter()"
      ],
      "execution_count": 611,
      "outputs": []
    },
    {
      "cell_type": "code",
      "metadata": {
        "id": "xxyhkg8Eklkc"
      },
      "source": [
        "cf.browser_write_h('gamerapple67@protonmail.com',User_Visible_Text_Element='Cc')\n",
        "cf.key_press('tab')"
      ],
      "execution_count": 612,
      "outputs": []
    },
    {
      "cell_type": "code",
      "metadata": {
        "id": "8rHGn3KxN1Yt"
      },
      "source": [
        "cf.key_write_enter(' Task 4 automation test')\n",
        "cf.key_press('tab')"
      ],
      "execution_count": 613,
      "outputs": []
    },
    {
      "cell_type": "code",
      "metadata": {
        "id": "bpdBZnPxN1Uk"
      },
      "source": [
        "cf.key_write_enter('This is a mail sent by a bot made of ClointFusion with a dummy information. Table Data:')\n",
        "cf.key_press('ctrl+V')"
      ],
      "execution_count": 614,
      "outputs": []
    },
    {
      "cell_type": "code",
      "metadata": {
        "id": "m7rXjlqBN1SC"
      },
      "source": [
        "#clicks on attach button using XPATH\n",
        "attach = cf.browser_locate_element_h('//*[@id=\"ReadingPaneContainerId\"]/div/div/div/div[1]/div[3]/div[2]/div[2]/div/div/div/div/div[1]/div/div/button/span/div/div/img') \n",
        "cf.browser_mouse_click_h(attach)"
      ],
      "execution_count": 615,
      "outputs": []
    },
    {
      "cell_type": "code",
      "metadata": {
        "id": "4lwdiEOpmOQ2"
      },
      "source": [
        "cf.browser_mouse_click_h('Browse this computer')"
      ],
      "execution_count": 616,
      "outputs": []
    },
    {
      "cell_type": "code",
      "metadata": {
        "id": "3FeY3LjAQaDx"
      },
      "source": [
        "time.sleep(2)"
      ],
      "execution_count": 617,
      "outputs": []
    },
    {
      "cell_type": "code",
      "metadata": {
        "id": "ZjmfWGYTc7Q7"
      },
      "source": [
        "cf.key_write_enter(path) #Enters the file and send it"
      ],
      "execution_count": 618,
      "outputs": []
    },
    {
      "cell_type": "code",
      "metadata": {
        "id": "sg94oIcHnUTs"
      },
      "source": [
        "time.sleep(3)"
      ],
      "execution_count": 619,
      "outputs": []
    },
    {
      "cell_type": "code",
      "metadata": {
        "id": "ZTLTLWpvI6nj"
      },
      "source": [
        "cf.key_press('ctrl+enter')"
      ],
      "execution_count": 620,
      "outputs": []
    }
  ]
}