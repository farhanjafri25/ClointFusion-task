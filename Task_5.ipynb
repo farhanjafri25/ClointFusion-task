{
  "nbformat": 4,
  "nbformat_minor": 0,
  "metadata": {
    "colab": {
      "name": "Task 5.ipynb",
      "provenance": [],
      "collapsed_sections": [],
      "authorship_tag": "ABX9TyPjZXi6SuhLPnja7OlDGJ1U",
      "include_colab_link": true
    },
    "kernelspec": {
      "name": "python3",
      "display_name": "Python 3"
    },
    "language_info": {
      "name": "python"
    }
  },
  "cells": [
    {
      "cell_type": "markdown",
      "metadata": {
        "id": "view-in-github",
        "colab_type": "text"
      },
      "source": [
        "<a href=\"https://colab.research.google.com/github/farhanjafri25/ClointFusion-task/blob/main/Task_5.ipynb\" target=\"_parent\"><img src=\"https://colab.research.google.com/assets/colab-badge.svg\" alt=\"Open In Colab\"/></a>"
      ]
    },
    {
      "cell_type": "code",
      "metadata": {
        "id": "78ZeGuESL-Zv"
      },
      "source": [
        "import ClointFusion as cf"
      ],
      "execution_count": 561,
      "outputs": []
    },
    {
      "cell_type": "code",
      "metadata": {
        "id": "hxxWa7p7Q9Lk"
      },
      "source": [
        "import cryptocode"
      ],
      "execution_count": 562,
      "outputs": []
    },
    {
      "cell_type": "code",
      "metadata": {
        "id": "vojI7TkJE0qJ"
      },
      "source": [
        "import time"
      ],
      "execution_count": 563,
      "outputs": []
    },
    {
      "cell_type": "code",
      "metadata": {
        "id": "3VtTAp4qVt-H"
      },
      "source": [
        "#function to traverse the columns in Excel and reach the defined cell\n",
        "def columns (col):\n",
        "  for i in range(len(li)):    \n",
        "    if(col != li[i]):\n",
        "      cf.key_press('Down')\n",
        "    else:\n",
        "      cf.key_press('Down')\n",
        "      cf.key_press('ctrl+C')\n",
        "      break "
      ],
      "execution_count": 564,
      "outputs": []
    },
    {
      "cell_type": "code",
      "metadata": {
        "id": "ncffys9x2U4f"
      },
      "source": [
        "#Fuction to copy paste and convert\n",
        "def web():\n",
        "  cf.browser_mouse_click_h(cf.browser_locate_element_h('//*[@id=\"midmarketFromCurrency\"]'))\n",
        "  cf.key_press('ctrl+V')\n",
        "  cf.key_hit_enter()\n",
        "  cf.browser_mouse_click_h(cf.browser_locate_element_h('//*[@id=\"midmarketToCurrency\"]'))\n",
        "  cf.window_activate_and_maximize_windows('Excel')\n",
        "  cf.key_press('Right')\n",
        "  cf.key_press('ctrl+C')\n",
        "  cf.window_activate_and_maximize_windows('Chrome')\n",
        "  cf.key_press('ctrl+V')\n",
        "  cf.key_hit_enter()\n",
        "  cf.browser_mouse_click_h(cf.browser_locate_element_h('//*[@id=\"__next\"]/div[2]/div[2]/section/div[2]/div/main/form/div[1]/div[1]'))\n",
        "  cf.window_activate_and_maximize_windows('Excel')\n",
        "  cf.key_press('Right')\n",
        "  cf.key_press('ctrl+C')\n",
        "  cf.window_activate_and_maximize_windows('Chrome')\n",
        "  cf.key_press('ctrl+V')\n",
        "  cf.browser_mouse_click_h('Convert')\n",
        "  cf.browser_mouse_double_click_h(cf.browser_locate_element_h('//*[@id=\"__next\"]/div[2]/div[2]/section/div[2]/div/main/form/div[2]/div[1]/p[2]/span'))\n",
        "  cf.key_press('ctrl+C')\n",
        "  cf.window_activate_and_maximize_windows('Excel')\n",
        "  cf.key_press('Right')\n",
        "  cf.key_press('ctrl+V')\n",
        "  cf.key_press('ctrl+home')"
      ],
      "execution_count": 565,
      "outputs": []
    },
    {
      "cell_type": "code",
      "metadata": {
        "colab": {
          "base_uri": "https://localhost:8080/",
          "height": 33
        },
        "id": "898qIKv8RCTl",
        "outputId": "d6278e46-4340-4d25-fcdc-c1044aaba6f1"
      },
      "source": [
        "cf.launch_website_h('https://avinashtechlvr.github.io/ClointFusion-Training-Task-6/')"
      ],
      "execution_count": 566,
      "outputs": [
        {
          "output_type": "display_data",
          "data": {
            "text/plain": [
              "\u001b[3;92mTrue\u001b[0m\n"
            ],
            "text/html": [
              "<pre style=\"white-space:pre;overflow-x:auto;line-height:normal;font-family:Menlo,'DejaVu Sans Mono',consolas,'Courier New',monospace\"><span style=\"color: #00ff00; text-decoration-color: #00ff00; font-style: italic\">True</span>\n",
              "</pre>\n"
            ]
          },
          "metadata": {
            "tags": []
          }
        }
      ]
    },
    {
      "cell_type": "code",
      "metadata": {
        "colab": {
          "base_uri": "https://localhost:8080/",
          "height": 33
        },
        "id": "-wLAP79NR1Sg",
        "outputId": "8272e48c-df4f-4238-f540-b38161a2cf47"
      },
      "source": [
        "cf.scrape_save_contents_to_notepad('C:/Users/91950/Documents/Task 5 CF')"
      ],
      "execution_count": 567,
      "outputs": [
        {
          "output_type": "display_data",
          "data": {
            "text/plain": [
              "\u001b[32m'Saved the contents at C:\\\\Users\\\\91950\\\\Documents\\\\Task 5 CF\\\\notepad-contents.txt'\u001b[0m\n"
            ],
            "text/html": [
              "<pre style=\"white-space:pre;overflow-x:auto;line-height:normal;font-family:Menlo,'DejaVu Sans Mono',consolas,'Courier New',monospace\"><span style=\"color: #008000; text-decoration-color: #008000\">'Saved the contents at C:\\\\Users\\\\91950\\\\Documents\\\\Task 5 CF\\\\notepad-contents.txt'</span>\n",
              "</pre>\n"
            ]
          },
          "metadata": {
            "tags": []
          }
        }
      ]
    },
    {
      "cell_type": "code",
      "metadata": {
        "id": "dqXgRE-RSWyF"
      },
      "source": [
        "cf.launch_any_exe_bat_application('C:\\\\Users\\\\91950\\\\Documents\\\\Task 5 CF\\\\notepad-contents.txt') #Launches notepad "
      ],
      "execution_count": 568,
      "outputs": []
    },
    {
      "cell_type": "code",
      "metadata": {
        "colab": {
          "base_uri": "https://localhost:8080/"
        },
        "id": "KmhAqMPUTaCY",
        "outputId": "5fc177b7-20bf-404b-a77f-dfcb9cc33056"
      },
      "source": [
        "cf.scrape_save_contents_to_notepad('C:\\\\Users\\\\91950\\\\Documents\\\\Task 5 CF\\\\notepad-contents.txt') #Copies the element in notepad"
      ],
      "execution_count": 569,
      "outputs": [
        {
          "output_type": "stream",
          "text": [
            "Error in scrape_save_contents_to_notepad = [Errno 2] No such file or directory: 'C:\\\\Users\\\\91950\\\\Documents\\\\Task 5 CF\\\\notepad-contents.txt\\\\notepad-contents.txt'\n"
          ],
          "name": "stdout"
        }
      ]
    },
    {
      "cell_type": "code",
      "metadata": {
        "id": "0OnWyAJFUdI4"
      },
      "source": [
        "cf.launch_any_exe_bat_application('C:\\\\Users\\\\91950\\\\Documents\\\\Task 5 CF\\\\excel.xlsx') #Launches excel file\n",
        "cf.key_press('ctrl+V')"
      ],
      "execution_count": 570,
      "outputs": []
    },
    {
      "cell_type": "code",
      "metadata": {
        "id": "BNnghyQlXVRf"
      },
      "source": [
        "cf.key_press('ctrl+home') #clears the above heading for ease\n",
        "cf.key_press('backspace')\n",
        "cf.key_hit_enter()\n",
        "cf.key_press('Up')"
      ],
      "execution_count": 571,
      "outputs": []
    },
    {
      "cell_type": "code",
      "metadata": {
        "id": "LQH6GAKQXU-S"
      },
      "source": [
        "cf.key_press('alt+E')\n",
        "cf.key_press('D')\n",
        "cf.key_press('R')\n",
        "cf.key_hit_enter()"
      ],
      "execution_count": 572,
      "outputs": []
    },
    {
      "cell_type": "code",
      "metadata": {
        "id": "WmXmBOY3dMEO"
      },
      "source": [
        "cf.key_press('alt+E')\n",
        "cf.key_press('D')\n",
        "cf.key_press('R')\n",
        "cf.key_hit_enter()\n",
        "cf.key_press('ctrl+S')"
      ],
      "execution_count": 573,
      "outputs": []
    },
    {
      "cell_type": "code",
      "metadata": {
        "id": "Z5Qfixv4Ey9J"
      },
      "source": [
        "time.sleep(3)"
      ],
      "execution_count": 574,
      "outputs": []
    },
    {
      "cell_type": "code",
      "metadata": {
        "colab": {
          "base_uri": "https://localhost:8080/",
          "height": 33
        },
        "id": "6Xb1GixJUuQF",
        "outputId": "8d9bd555-6549-45e6-9a20-279ffcfe207d"
      },
      "source": [
        "cf.excel_get_all_header_columns('C:\\\\Users\\\\91950\\\\Documents\\\\Task 5 CF\\\\Excel.xlsx')"
      ],
      "execution_count": 575,
      "outputs": [
        {
          "output_type": "display_data",
          "data": {
            "text/plain": [
              "\u001b[1m[\u001b[0m\u001b[32m'From'\u001b[0m, \u001b[32m'To'\u001b[0m, \u001b[32m'Amount'\u001b[0m, \u001b[32m'Converted'\u001b[0m\u001b[1m]\u001b[0m\n"
            ],
            "text/html": [
              "<pre style=\"white-space:pre;overflow-x:auto;line-height:normal;font-family:Menlo,'DejaVu Sans Mono',consolas,'Courier New',monospace\"><span style=\"font-weight: bold\">[</span><span style=\"color: #008000; text-decoration-color: #008000\">'From'</span>, <span style=\"color: #008000; text-decoration-color: #008000\">'To'</span>, <span style=\"color: #008000; text-decoration-color: #008000\">'Amount'</span>, <span style=\"color: #008000; text-decoration-color: #008000\">'Converted'</span><span style=\"font-weight: bold\">]</span>\n",
              "</pre>\n"
            ]
          },
          "metadata": {
            "tags": []
          }
        }
      ]
    },
    {
      "cell_type": "code",
      "metadata": {
        "colab": {
          "base_uri": "https://localhost:8080/"
        },
        "id": "BWXeOyUIWO4C",
        "outputId": "39365c68-8367-4657-ba66-ea9f1099f260"
      },
      "source": [
        "rowcol = cf.excel_get_row_column_count('C:\\\\Users\\\\91950\\\\Documents\\\\Task 5 CF\\\\Excel.xlsx')\n",
        "row = rowcol[0]\n",
        "print(row)"
      ],
      "execution_count": 576,
      "outputs": [
        {
          "output_type": "stream",
          "text": [
            "11\n"
          ],
          "name": "stdout"
        }
      ]
    },
    {
      "cell_type": "code",
      "metadata": {
        "colab": {
          "base_uri": "https://localhost:8080/"
        },
        "id": "TraeoTlPhH5x",
        "outputId": "7f2b005e-3979-46bb-ed05-aaead55e5d04"
      },
      "source": [
        "li = []\n",
        "for x in range(row):\n",
        "  li.append(cf.excel_get_single_cell(excel_path='C:\\\\Users\\\\91950\\\\Documents\\\\Task 5 CF\\\\Excel.xlsx',columnName='From',cellNumber=x))\n",
        "\n",
        "print(li)"
      ],
      "execution_count": 577,
      "outputs": [
        {
          "output_type": "stream",
          "text": [
            "Error in excel_get_single_cell=10\n",
            "[nan, 'INR', nan, 'USD', nan, 'GBP', nan, 'AUD', nan, 'CNY', None]\n"
          ],
          "name": "stdout"
        }
      ]
    },
    {
      "cell_type": "code",
      "metadata": {
        "colab": {
          "base_uri": "https://localhost:8080/"
        },
        "id": "LhsAryf6nTYp",
        "outputId": "265d0077-18db-488b-812b-d281f9beed45"
      },
      "source": [
        "print(len(li))"
      ],
      "execution_count": 578,
      "outputs": [
        {
          "output_type": "stream",
          "text": [
            "11\n"
          ],
          "name": "stdout"
        }
      ]
    },
    {
      "cell_type": "code",
      "metadata": {
        "id": "vAbY7T-FhH2S"
      },
      "source": [
        "columns('INR')"
      ],
      "execution_count": 579,
      "outputs": []
    },
    {
      "cell_type": "code",
      "metadata": {
        "colab": {
          "base_uri": "https://localhost:8080/",
          "height": 33
        },
        "id": "oRFJxmDjpPeM",
        "outputId": "6d1ea19f-ef82-4577-d4bc-79592d29469f"
      },
      "source": [
        "cf.launch_website_h('https://www.xe.com/currencyconverter/') #Launches the converter site"
      ],
      "execution_count": 580,
      "outputs": [
        {
          "output_type": "display_data",
          "data": {
            "text/plain": [
              "\u001b[3;92mTrue\u001b[0m\n"
            ],
            "text/html": [
              "<pre style=\"white-space:pre;overflow-x:auto;line-height:normal;font-family:Menlo,'DejaVu Sans Mono',consolas,'Courier New',monospace\"><span style=\"color: #00ff00; text-decoration-color: #00ff00; font-style: italic\">True</span>\n",
              "</pre>\n"
            ]
          },
          "metadata": {
            "tags": []
          }
        }
      ]
    },
    {
      "cell_type": "code",
      "metadata": {
        "id": "0spFtnCt3J6V"
      },
      "source": [
        "cf.browser_mouse_click_h(cf.browser_locate_element_h('//*[@id=\"yie-close-button-4b84ff89-bea3-5f0d-9905-a3faa16e227c\"]'))"
      ],
      "execution_count": 581,
      "outputs": []
    },
    {
      "cell_type": "code",
      "metadata": {
        "id": "aj40u7qH3cn9"
      },
      "source": [
        "web()"
      ],
      "execution_count": 582,
      "outputs": []
    },
    {
      "cell_type": "code",
      "metadata": {
        "id": "8uHICGa21oVP"
      },
      "source": [
        "columns('USD')"
      ],
      "execution_count": 583,
      "outputs": []
    },
    {
      "cell_type": "code",
      "metadata": {
        "id": "_SjGthFT1oN6"
      },
      "source": [
        "#Launches chrome and clear the entered number value\n",
        "cf.window_activate_and_maximize_windows('Chrome')\n",
        "cf.browser_mouse_double_click_h(cf.browser_locate_element_h('//*[@id=\"amount\"]'))\n",
        "cf.key_press('backspace')"
      ],
      "execution_count": 584,
      "outputs": []
    },
    {
      "cell_type": "code",
      "metadata": {
        "id": "ONHI1YB_3clQ"
      },
      "source": [
        "web()"
      ],
      "execution_count": 585,
      "outputs": []
    },
    {
      "cell_type": "code",
      "metadata": {
        "id": "tZz0OC9X3ciD"
      },
      "source": [
        "columns('GBP')"
      ],
      "execution_count": 586,
      "outputs": []
    },
    {
      "cell_type": "code",
      "metadata": {
        "id": "ksFW4H4R5n-N"
      },
      "source": [
        "cf.window_activate_and_maximize_windows('Chrome')\n",
        "cf.browser_mouse_double_click_h(cf.browser_locate_element_h('//*[@id=\"amount\"]'))\n",
        "cf.key_press('backspace')"
      ],
      "execution_count": 587,
      "outputs": []
    },
    {
      "cell_type": "code",
      "metadata": {
        "id": "QhLiY-EuF-jE"
      },
      "source": [
        "web()"
      ],
      "execution_count": 588,
      "outputs": []
    },
    {
      "cell_type": "code",
      "metadata": {
        "id": "rzc-IK27GAOJ"
      },
      "source": [
        "columns('AUD')"
      ],
      "execution_count": 589,
      "outputs": []
    },
    {
      "cell_type": "code",
      "metadata": {
        "id": "TG52pDgy5n6z"
      },
      "source": [
        "cf.window_activate_and_maximize_windows('Chrome')\n",
        "cf.browser_mouse_double_click_h(cf.browser_locate_element_h('//*[@id=\"amount\"]'))\n",
        "cf.key_press('backspace')"
      ],
      "execution_count": 590,
      "outputs": []
    },
    {
      "cell_type": "code",
      "metadata": {
        "id": "ijq7yVkHGFqT"
      },
      "source": [
        "web()"
      ],
      "execution_count": 591,
      "outputs": []
    },
    {
      "cell_type": "code",
      "metadata": {
        "id": "Sewnn-zaGFmz"
      },
      "source": [
        "columns('CNY')"
      ],
      "execution_count": 592,
      "outputs": []
    },
    {
      "cell_type": "code",
      "metadata": {
        "id": "LtyS40xSGOkG"
      },
      "source": [
        "cf.window_activate_and_maximize_windows('Chrome')\n",
        "cf.browser_mouse_double_click_h(cf.browser_locate_element_h('//*[@id=\"amount\"]'))\n",
        "cf.key_press('backspace')"
      ],
      "execution_count": 593,
      "outputs": []
    },
    {
      "cell_type": "code",
      "metadata": {
        "id": "ZnkU8_50GOTU"
      },
      "source": [
        "web()"
      ],
      "execution_count": 594,
      "outputs": []
    },
    {
      "cell_type": "code",
      "metadata": {
        "id": "F5q1dd2CGSFD"
      },
      "source": [
        "cf.key_press('ctrl+S')\n",
        "cf.window_close_windows('Excel')"
      ],
      "execution_count": 595,
      "outputs": []
    },
    {
      "cell_type": "code",
      "metadata": {
        "id": "gXIXHYFlIM4d"
      },
      "source": [
        "#Launches Outlook and mail the file\n",
        "cf.launch_any_exe_bat_application('Outlook')\n",
        "cf.key_press('alt+H')\n",
        "cf.key_press('N')"
      ],
      "execution_count": 596,
      "outputs": []
    },
    {
      "cell_type": "code",
      "metadata": {
        "id": "txyotKaGIozA"
      },
      "source": [
        "cf.key_write_enter('farhanjafri8@gmail.com')\n",
        "cf.key_press('tab')\n",
        "cf.key_press('tab')\n",
        "cf.key_write_enter('Money Converter')"
      ],
      "execution_count": 597,
      "outputs": []
    },
    {
      "cell_type": "code",
      "metadata": {
        "id": "drkOp6jzIAG9"
      },
      "source": [
        "cf.key_press('alt+H')\n",
        "cf.key_press('A+F')\n",
        "cf.key_hit_enter()"
      ],
      "execution_count": 598,
      "outputs": []
    },
    {
      "cell_type": "code",
      "metadata": {
        "id": "QZFR9bxPJTfL"
      },
      "source": [
        ""
      ],
      "execution_count": 598,
      "outputs": []
    },
    {
      "cell_type": "code",
      "metadata": {
        "id": "SY5OYwSOJwRl"
      },
      "source": [
        ""
      ],
      "execution_count": 598,
      "outputs": []
    },
    {
      "cell_type": "code",
      "metadata": {
        "id": "LPHvkYorJwOK"
      },
      "source": [
        ""
      ],
      "execution_count": 598,
      "outputs": []
    }
  ]
}