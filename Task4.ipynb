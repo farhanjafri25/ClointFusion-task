{
  "nbformat": 4,
  "nbformat_minor": 0,
  "metadata": {
    "colab": {
      "name": "Task4.ipynb",
      "provenance": [],
      "authorship_tag": "ABX9TyOkikCk7Ia4eJJ9qqK+4vbE",
      "include_colab_link": true
    },
    "kernelspec": {
      "name": "python3",
      "display_name": "Python 3"
    },
    "language_info": {
      "name": "python"
    }
  },
  "cells": [
    {
      "cell_type": "markdown",
      "metadata": {
        "id": "view-in-github",
        "colab_type": "text"
      },
      "source": [
        "<a href=\"https://colab.research.google.com/github/farhanjafri25/ClointFusion-task/blob/main/Task4.ipynb\" target=\"_parent\"><img src=\"https://colab.research.google.com/assets/colab-badge.svg\" alt=\"Open In Colab\"/></a>"
      ]
    },
    {
      "cell_type": "code",
      "metadata": {
        "id": "b4Pjnblfqu1w"
      },
      "source": [
        "import ClointFusion as cf"
      ],
      "execution_count": 1087,
      "outputs": []
    },
    {
      "cell_type": "code",
      "metadata": {
        "id": "4YvDetpPrCEE"
      },
      "source": [
        "import cryptocode"
      ],
      "execution_count": 1088,
      "outputs": []
    },
    {
      "cell_type": "code",
      "metadata": {
        "id": "Qz0LE0_n7Jyk"
      },
      "source": [
        "import time"
      ],
      "execution_count": 1089,
      "outputs": []
    },
    {
      "cell_type": "code",
      "metadata": {
        "id": "fmxo1fo9DJp3"
      },
      "source": [
        "header = cf.excel_get_all_header_columns('C:/Users/91950/Documents/Task 4 CF/Email.xlsx') #Get header row"
      ],
      "execution_count": 1090,
      "outputs": []
    },
    {
      "cell_type": "code",
      "metadata": {
        "id": "ZCzvQMvCDJmD"
      },
      "source": [
        "rowcolcount = cf.excel_get_row_column_count('C:/Users/91950/Documents/Task 4 CF/Email.xlsx') #row column count"
      ],
      "execution_count": 1091,
      "outputs": []
    },
    {
      "cell_type": "code",
      "metadata": {
        "colab": {
          "base_uri": "https://localhost:8080/"
        },
        "id": "pdBYdtJGDJiy",
        "outputId": "12eb3985-fc13-46d9-feec-1843110d701e"
      },
      "source": [
        "Nrow = rowcolcount[0] #Variable to store no of rows\n",
        "print(Nrow)"
      ],
      "execution_count": 1092,
      "outputs": [
        {
          "output_type": "stream",
          "text": [
            "7\n"
          ],
          "name": "stdout"
        }
      ]
    },
    {
      "cell_type": "code",
      "metadata": {
        "id": "0s5nkGqGDJZz"
      },
      "source": [
        "Ncol = rowcolcount[1] #Variable to store no of columns"
      ],
      "execution_count": 1093,
      "outputs": []
    },
    {
      "cell_type": "code",
      "metadata": {
        "id": "Ah_qy4XHYjOR"
      },
      "source": [
        "#Fucntion to reach to a defined Column name and store it's values in a list\n",
        "def colvalue(colname):\n",
        "\n",
        "  #colname = \"Name\"\n",
        "  for x in range(Ncol):\n",
        "    if (colname == header[x]):\n",
        "      for i in range(Nrow-1):\n",
        "        l1.append(cf.excel_get_single_cell(excel_path='C:/Users/91950/Documents/Task 4 CF/Email.xlsx',columnName=colname,cellNumber=i))\n",
        "      return l1\n",
        "      \n",
        "    else :\n",
        "      cf.key_press('Right')\n",
        "\n",
        "      \n",
        "  "
      ],
      "execution_count": 1094,
      "outputs": []
    },
    {
      "cell_type": "code",
      "metadata": {
        "id": "TXoCq-dz67FL"
      },
      "source": [
        "#function to copy a defined value of column\n",
        "def rowvalue(value,li):\n",
        "  j = 0\n",
        "  for j in range(len(li)):\n",
        "    if (value != li[j]):\n",
        "      cf.key_press('Down')\n",
        "      \n",
        "    else:\n",
        "      cf.key_press('Down')\n",
        "      cf.key_press('ctrl + C')\n",
        "      break\n",
        "      \n"
      ],
      "execution_count": 1095,
      "outputs": []
    },
    {
      "cell_type": "code",
      "metadata": {
        "colab": {
          "base_uri": "https://localhost:8080/",
          "height": 33
        },
        "id": "sbxvohLKw7vk",
        "outputId": "f497ba2e-d255-49ad-c2d1-185b61223f84"
      },
      "source": [
        "#opens outlook\n",
        "cf.launch_website_h('https://login.live.com/login.srf?wa=wsignin1.0&rpsnv=13&ct=1622285752&rver=7.0.6737.0&wp=MBI_SSL&wreply=https%3a%2f%2foutlook.live.com%2fowa%2f%3fnlp%3d1%26RpsCsrfState%3dc4b89f24-704c-8162-2969-d8c4e25fe059&id=292841&aadredir=1&whr=outlook.com&CBCXT=out&lw=1&fl=dob%2cflname%2cwld&cobrandid=90015')"
      ],
      "execution_count": 1096,
      "outputs": [
        {
          "output_type": "display_data",
          "data": {
            "text/plain": [
              "\u001b[3;92mTrue\u001b[0m\n"
            ],
            "text/html": [
              "<pre style=\"white-space:pre;overflow-x:auto;line-height:normal;font-family:Menlo,'DejaVu Sans Mono',consolas,'Courier New',monospace\"><span style=\"color: #00ff00; text-decoration-color: #00ff00; font-style: italic\">True</span>\n",
              "</pre>\n"
            ]
          },
          "metadata": {
            "tags": []
          }
        }
      ]
    },
    {
      "cell_type": "code",
      "metadata": {
        "id": "8A98R3LPw7mS"
      },
      "source": [
        "#Opens an excel file to enter the Email and password\n",
        "cf.launch_any_exe_bat_application('C:/Users/91950/Documents/Task 4 CF/login.xlsx')"
      ],
      "execution_count": 1097,
      "outputs": []
    },
    {
      "cell_type": "code",
      "metadata": {
        "id": "FgfrvSyCxh0x"
      },
      "source": [
        "cf.key_press('ctrl+home')"
      ],
      "execution_count": 1098,
      "outputs": []
    },
    {
      "cell_type": "code",
      "metadata": {
        "id": "gGKkbJYCw7fs"
      },
      "source": [
        "cf.key_press('ctrl+C')\n",
        "cf.window_activate_and_maximize_windows('Chrome')\n",
        "cf.key_press('ctrl+V')"
      ],
      "execution_count": 1099,
      "outputs": []
    },
    {
      "cell_type": "code",
      "metadata": {
        "id": "fTVpxtQ_yWzi"
      },
      "source": [
        "cf.browser_mouse_click_h('Next')"
      ],
      "execution_count": 1100,
      "outputs": []
    },
    {
      "cell_type": "code",
      "metadata": {
        "id": "4pP_olz0ydd6"
      },
      "source": [
        "cf.window_activate_and_maximize_windows('Excel')\n",
        "cf.key_press('Down')\n",
        "cf.key_press('ctrl+C')\n",
        "cf.window_close_windows('Excel')"
      ],
      "execution_count": 1101,
      "outputs": []
    },
    {
      "cell_type": "code",
      "metadata": {
        "id": "FdS_-k33yt6q"
      },
      "source": [
        "cf.window_activate_and_maximize_windows('Chrome')\n",
        "cf.key_press('ctrl+V')"
      ],
      "execution_count": 1102,
      "outputs": []
    },
    {
      "cell_type": "code",
      "metadata": {
        "id": "7nMZjtTnyWqD"
      },
      "source": [
        "cf.browser_mouse_click_h('Sign in')"
      ],
      "execution_count": 1103,
      "outputs": []
    },
    {
      "cell_type": "code",
      "metadata": {
        "id": "amB6eieTz8uv"
      },
      "source": [
        "cf.browser_mouse_click_h('New message')"
      ],
      "execution_count": 1104,
      "outputs": []
    },
    {
      "cell_type": "code",
      "metadata": {
        "id": "KE5bHHIN0m2K"
      },
      "source": [
        "#OPens the excel file to input Email address of recipient\n",
        "cf.launch_any_exe_bat_application('C:/Users/91950/Documents/Task 4 CF/Email.xlsx')\n",
        "cf.key_press('ctrl+home')"
      ],
      "execution_count": 1105,
      "outputs": []
    },
    {
      "cell_type": "code",
      "metadata": {
        "colab": {
          "base_uri": "https://localhost:8080/",
          "height": 145
        },
        "id": "JkKkvh81hnab",
        "outputId": "14a36637-bd92-42ef-b031-ae203ff3d4c0"
      },
      "source": [
        "l1 = []\n",
        "colvalue('Email Id')\n"
      ],
      "execution_count": 1106,
      "outputs": [
        {
          "output_type": "display_data",
          "data": {
            "text/plain": [
              "\u001b[1m[\u001b[0m\n",
              "    \u001b[32m'karthik@cloint.com'\u001b[0m,\n",
              "    \u001b[32m'prashant@cloint.com'\u001b[0m,\n",
              "    \u001b[32m'fharookshaik.clointfusion@gmail.com'\u001b[0m,\n",
              "    \u001b[32m'avinash.clointfusion@gmail.com'\u001b[0m,\n",
              "    \u001b[32m'shrinidhi.clointfusion@gmail.com'\u001b[0m,\n",
              "    \u001b[32m'farhanjafri8@gmail.com '\u001b[0m\n",
              "\u001b[1m]\u001b[0m\n"
            ],
            "text/html": [
              "<pre style=\"white-space:pre;overflow-x:auto;line-height:normal;font-family:Menlo,'DejaVu Sans Mono',consolas,'Courier New',monospace\"><span style=\"font-weight: bold\">[</span>\n",
              "    <span style=\"color: #008000; text-decoration-color: #008000\">'karthik@cloint.com'</span>,\n",
              "    <span style=\"color: #008000; text-decoration-color: #008000\">'prashant@cloint.com'</span>,\n",
              "    <span style=\"color: #008000; text-decoration-color: #008000\">'fharookshaik.clointfusion@gmail.com'</span>,\n",
              "    <span style=\"color: #008000; text-decoration-color: #008000\">'avinash.clointfusion@gmail.com'</span>,\n",
              "    <span style=\"color: #008000; text-decoration-color: #008000\">'shrinidhi.clointfusion@gmail.com'</span>,\n",
              "    <span style=\"color: #008000; text-decoration-color: #008000\">'farhanjafri8@gmail.com '</span>\n",
              "<span style=\"font-weight: bold\">]</span>\n",
              "</pre>\n"
            ]
          },
          "metadata": {
            "tags": []
          }
        }
      ]
    },
    {
      "cell_type": "code",
      "metadata": {
        "id": "WcGTlNsAhrVs"
      },
      "source": [
        "rowvalue('farhanjafri8@gmail.com',l1)"
      ],
      "execution_count": 1107,
      "outputs": []
    },
    {
      "cell_type": "code",
      "metadata": {
        "id": "vNbj22T50zr2"
      },
      "source": [
        "cf.window_activate_and_maximize_windows('Chrome')\n",
        "cf.key_press('ctrl+V')\n",
        "cf.key_press('tab')\n",
        "cf.key_hit_enter()"
      ],
      "execution_count": 1108,
      "outputs": []
    },
    {
      "cell_type": "code",
      "metadata": {
        "id": "ZFiHBZv01XGR"
      },
      "source": [
        "cf.key_press('tab')"
      ],
      "execution_count": 1109,
      "outputs": []
    },
    {
      "cell_type": "code",
      "metadata": {
        "id": "a4dryfsu1W-n"
      },
      "source": [
        "cf.browser_write_h('Zoom meeting invite','Add a subject')\n",
        "cf.key_press('tab')"
      ],
      "execution_count": 1110,
      "outputs": []
    },
    {
      "cell_type": "code",
      "metadata": {
        "id": "30MIjvWJ95Jb"
      },
      "source": [
        "#Opens Email text file and edit the reqired values accordingly\n",
        "cf.launch_any_exe_bat_application('C:/Users/91950/Documents/Task 4 CF/Email.txt')"
      ],
      "execution_count": 1111,
      "outputs": []
    },
    {
      "cell_type": "code",
      "metadata": {
        "id": "M3Tva0s399V6"
      },
      "source": [
        "cf.window_activate_and_maximize_windows('Email - Notepad')"
      ],
      "execution_count": 1112,
      "outputs": []
    },
    {
      "cell_type": "code",
      "metadata": {
        "id": "pTCSx6rlwycp"
      },
      "source": [
        "\n",
        "cf.search_highlight_tab_enter_open('Folks')\n",
        "cf.key_press('Backspace')"
      ],
      "execution_count": 1113,
      "outputs": []
    },
    {
      "cell_type": "code",
      "metadata": {
        "id": "6_6oIEQr5MZH"
      },
      "source": [
        "cf.window_activate_and_maximize_windows('Excel')\n",
        "cf.key_press('ctrl+home')"
      ],
      "execution_count": 1114,
      "outputs": []
    },
    {
      "cell_type": "code",
      "metadata": {
        "id": "yFjpzyoD419E",
        "colab": {
          "base_uri": "https://localhost:8080/"
        },
        "outputId": "bfff8d92-9c9f-4720-e6db-31a819a130f4"
      },
      "source": [
        "l1 = []\n",
        "colvalue('Name')\n",
        "print(l1)"
      ],
      "execution_count": 1115,
      "outputs": [
        {
          "output_type": "stream",
          "text": [
            "['Karthik', 'Prashant', 'Fharook', 'Avinash', 'Shrinidhi', 'Farhan']\n"
          ],
          "name": "stdout"
        }
      ]
    },
    {
      "cell_type": "code",
      "metadata": {
        "id": "Q8f_ZoaAJbHi"
      },
      "source": [
        "rowvalue('Farhan',l1)"
      ],
      "execution_count": 1116,
      "outputs": []
    },
    {
      "cell_type": "code",
      "metadata": {
        "id": "_bzskfvct0zL"
      },
      "source": [
        "cf.window_activate_and_maximize_windows('Notepad')\n",
        "cf.key_press('ctrl+V')"
      ],
      "execution_count": 1117,
      "outputs": []
    },
    {
      "cell_type": "code",
      "metadata": {
        "id": "ZHshEcE9tpJd"
      },
      "source": [
        "cf.key_press('Backspace')"
      ],
      "execution_count": 1118,
      "outputs": []
    },
    {
      "cell_type": "code",
      "metadata": {
        "id": "IEYoCq_DZIWQ"
      },
      "source": [
        "cf.search_highlight_tab_enter_open('6.0')\n",
        "cf.key_press('backspace')"
      ],
      "execution_count": 1119,
      "outputs": []
    },
    {
      "cell_type": "code",
      "metadata": {
        "id": "MiSqYFihZIS5"
      },
      "source": [
        "cf.window_activate_and_maximize_windows('Excel')\n",
        "cf.key_press('ctrl + home')"
      ],
      "execution_count": 1120,
      "outputs": []
    },
    {
      "cell_type": "code",
      "metadata": {
        "colab": {
          "base_uri": "https://localhost:8080/"
        },
        "id": "ScolAsnyZrs8",
        "outputId": "920c951b-e97d-46de-bd4c-c7ea7f8fe8d3"
      },
      "source": [
        "l1 = []\n",
        "colvalue('Hackathon version')\n",
        "print(l1)"
      ],
      "execution_count": 1121,
      "outputs": [
        {
          "output_type": "stream",
          "text": [
            "[9.0, 10.0, 11.0, 12.0, nan, nan]\n"
          ],
          "name": "stdout"
        }
      ]
    },
    {
      "cell_type": "code",
      "metadata": {
        "id": "DuNlYBvTZrpm"
      },
      "source": [
        "rowvalue(9,l1)"
      ],
      "execution_count": 1122,
      "outputs": []
    },
    {
      "cell_type": "code",
      "metadata": {
        "id": "bj85eeMIaGXq"
      },
      "source": [
        "cf.window_activate_and_maximize_windows('Notepad')\n",
        "cf.key_press('ctrl+V')\n",
        "cf.key_press('backspace')"
      ],
      "execution_count": 1123,
      "outputs": []
    },
    {
      "cell_type": "code",
      "metadata": {
        "id": "CGLBFvGteWNf"
      },
      "source": [
        "cf.search_highlight_tab_enter_open('March 13, 2021')\n",
        "cf.key_press('backspace')"
      ],
      "execution_count": 1124,
      "outputs": []
    },
    {
      "cell_type": "code",
      "metadata": {
        "id": "fSQXeJkTeWKH"
      },
      "source": [
        "cf.window_activate_and_maximize_windows('Excel')\n",
        "cf.key_press('ctrl + home')"
      ],
      "execution_count": 1125,
      "outputs": []
    },
    {
      "cell_type": "code",
      "metadata": {
        "colab": {
          "base_uri": "https://localhost:8080/",
          "height": 33
        },
        "id": "N1Jhv-luesBF",
        "outputId": "05cdbdbe-c22e-4429-9a43-0c90460724fc"
      },
      "source": [
        "l1 = []\n",
        "colvalue('Date')"
      ],
      "execution_count": 1126,
      "outputs": [
        {
          "output_type": "display_data",
          "data": {
            "text/plain": [
              "\u001b[1m[\u001b[0m\u001b[32m'12Th June 2021'\u001b[0m, \u001b[32m'12Th July 2021'\u001b[0m, \u001b[32m'12Th August 2021'\u001b[0m, nan, nan, nan\u001b[1m]\u001b[0m\n"
            ],
            "text/html": [
              "<pre style=\"white-space:pre;overflow-x:auto;line-height:normal;font-family:Menlo,'DejaVu Sans Mono',consolas,'Courier New',monospace\"><span style=\"font-weight: bold\">[</span><span style=\"color: #008000; text-decoration-color: #008000\">'12Th June 2021'</span>, <span style=\"color: #008000; text-decoration-color: #008000\">'12Th July 2021'</span>, <span style=\"color: #008000; text-decoration-color: #008000\">'12Th August 2021'</span>, nan, nan, nan<span style=\"font-weight: bold\">]</span>\n",
              "</pre>\n"
            ]
          },
          "metadata": {
            "tags": []
          }
        }
      ]
    },
    {
      "cell_type": "code",
      "metadata": {
        "id": "UU2CJUpgery1"
      },
      "source": [
        "rowvalue('12Th June 2021',l1)"
      ],
      "execution_count": 1127,
      "outputs": []
    },
    {
      "cell_type": "code",
      "metadata": {
        "id": "A0SPNgpRe8Ej"
      },
      "source": [
        "cf.window_activate_and_maximize_windows('Notepad')\n",
        "cf.key_press('ctrl+V')\n",
        "cf.key_press('backspace')"
      ],
      "execution_count": 1128,
      "outputs": []
    },
    {
      "cell_type": "code",
      "metadata": {
        "colab": {
          "base_uri": "https://localhost:8080/"
        },
        "id": "zpzp6zJBvnMH",
        "outputId": "7d4b0b75-d621-4b55-a651-9158979ee3c7"
      },
      "source": [
        "#Scrape Contents of email text file\n",
        "cf.scrape_save_contents_to_notepad('C:/Users/91950/Documents/Task 4 CF/Email.txt')"
      ],
      "execution_count": 1129,
      "outputs": [
        {
          "output_type": "stream",
          "text": [
            "Error in scrape_save_contents_to_notepad = [Errno 2] No such file or directory: 'C:\\\\Users\\\\91950\\\\Documents\\\\Task 4 CF\\\\Email.txt\\\\notepad-contents.txt'\n"
          ],
          "name": "stdout"
        }
      ]
    },
    {
      "cell_type": "code",
      "metadata": {
        "id": "hM5leyhT3Cgr"
      },
      "source": [
        "#Copies the content into email body\n",
        "cf.window_activate_and_maximize_windows('Chrome')\n",
        "cf.key_press('ctrl+V')"
      ],
      "execution_count": 1130,
      "outputs": []
    },
    {
      "cell_type": "code",
      "metadata": {
        "id": "FejjwxMV7IAh"
      },
      "source": [
        "time.sleep(3)"
      ],
      "execution_count": 1131,
      "outputs": []
    },
    {
      "cell_type": "code",
      "metadata": {
        "id": "djt5gt-5e8jk"
      },
      "source": [
        ""
      ],
      "execution_count": 1131,
      "outputs": []
    }
  ]
}