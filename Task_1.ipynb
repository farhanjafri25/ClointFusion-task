{
  "nbformat": 4,
  "nbformat_minor": 0,
  "metadata": {
    "colab": {
      "name": "Task 1.ipynb",
      "provenance": [],
      "collapsed_sections": [],
      "authorship_tag": "ABX9TyOlWAyXZ3b/CdAv0r6BjkbJ",
      "include_colab_link": true
    },
    "kernelspec": {
      "name": "python3",
      "display_name": "Python 3"
    },
    "language_info": {
      "name": "python"
    }
  },
  "cells": [
    {
      "cell_type": "markdown",
      "metadata": {
        "id": "view-in-github",
        "colab_type": "text"
      },
      "source": [
        "<a href=\"https://colab.research.google.com/github/farhanjafri25/ClointFusion-task/blob/main/Task_1.ipynb\" target=\"_parent\"><img src=\"https://colab.research.google.com/assets/colab-badge.svg\" alt=\"Open In Colab\"/></a>"
      ]
    },
    {
      "cell_type": "code",
      "metadata": {
        "id": "giR8Z627A8s6"
      },
      "source": [
        "import ClointFusion as cf"
      ],
      "execution_count": 9,
      "outputs": []
    },
    {
      "cell_type": "code",
      "metadata": {
        "id": "zs0p0gGABJc1"
      },
      "source": [
        "import cryptocode"
      ],
      "execution_count": 10,
      "outputs": []
    },
    {
      "cell_type": "code",
      "metadata": {
        "id": "h05w6WNYF3gA"
      },
      "source": [
        "folderpath = cf.gui_get_any_input_from_user('Enter file path') #folder path to create a new excel file"
      ],
      "execution_count": 11,
      "outputs": []
    },
    {
      "cell_type": "code",
      "metadata": {
        "id": "qmFb59r680VJ"
      },
      "source": [
        "outfold = cf.gui_get_any_input_from_user('Enter the output folder path') # folder to store the output of the excel file"
      ],
      "execution_count": 23,
      "outputs": []
    },
    {
      "cell_type": "code",
      "metadata": {
        "colab": {
          "base_uri": "https://localhost:8080/",
          "height": 33
        },
        "id": "D7ya_Y7dBerx",
        "outputId": "44e6f465-7bc6-4030-8a1d-5682ec4a29d7"
      },
      "source": [
        "cf.excel_create_excel_file_in_given_folder(folderpath,excelFileName='Excel') #Creates an excel file in the given folder"
      ],
      "execution_count": 12,
      "outputs": [
        {
          "output_type": "display_data",
          "data": {
            "text/plain": [
              "\u001b[3;92mTrue\u001b[0m\n"
            ],
            "text/html": [
              "<pre style=\"white-space:pre;overflow-x:auto;line-height:normal;font-family:Menlo,'DejaVu Sans Mono',consolas,'Courier New',monospace\"><span style=\"color: #00ff00; text-decoration-color: #00ff00; font-style: italic\">True</span>\n",
              "</pre>\n"
            ]
          },
          "metadata": {
            "tags": []
          }
        }
      ]
    },
    {
      "cell_type": "code",
      "metadata": {
        "colab": {
          "base_uri": "https://localhost:8080/"
        },
        "id": "NnvDH9QtpkEb",
        "outputId": "bd09b0a9-4b0a-48e8-fe6b-d8de21fcab9d"
      },
      "source": [
        "return_value = cf.excel_copy_paste_range_from_to_sheet() #Copies and paste values form the original excel file to the created file\n",
        "print(\"Copy pasted {} rows\".format(return_value + 1))"
      ],
      "execution_count": 13,
      "outputs": [
        {
          "output_type": "stream",
          "text": [
            "Copy pasted 64 rows\n"
          ],
          "name": "stdout"
        }
      ]
    },
    {
      "cell_type": "code",
      "metadata": {
        "id": "3rn9RDSixfcF"
      },
      "source": [
        "filepath = cf.gui_get_any_file_from_user() #Stores the file location of created excel file"
      ],
      "execution_count": 14,
      "outputs": []
    },
    {
      "cell_type": "code",
      "metadata": {
        "colab": {
          "base_uri": "https://localhost:8080/",
          "height": 33
        },
        "id": "OvmkYBpTID0G",
        "outputId": "951dada7-34bc-4e41-81b3-528f23c21de4"
      },
      "source": [
        "cf.excel_get_all_header_columns(filepath, header=0) #Gets the header column"
      ],
      "execution_count": 15,
      "outputs": [
        {
          "output_type": "display_data",
          "data": {
            "text/plain": [
              "\u001b[1m[\u001b[0m\u001b[32m'ID '\u001b[0m, \u001b[32m'OrderDate'\u001b[0m, \u001b[32m'Region'\u001b[0m, \u001b[32m'Rep'\u001b[0m, \u001b[32m'Item'\u001b[0m, \u001b[32m'Units'\u001b[0m, \u001b[32m'UnitCost'\u001b[0m, \u001b[32m'Total'\u001b[0m\u001b[1m]\u001b[0m\n"
            ],
            "text/html": [
              "<pre style=\"white-space:pre;overflow-x:auto;line-height:normal;font-family:Menlo,'DejaVu Sans Mono',consolas,'Courier New',monospace\"><span style=\"font-weight: bold\">[</span><span style=\"color: #008000; text-decoration-color: #008000\">'ID '</span>, <span style=\"color: #008000; text-decoration-color: #008000\">'OrderDate'</span>, <span style=\"color: #008000; text-decoration-color: #008000\">'Region'</span>, <span style=\"color: #008000; text-decoration-color: #008000\">'Rep'</span>, <span style=\"color: #008000; text-decoration-color: #008000\">'Item'</span>, <span style=\"color: #008000; text-decoration-color: #008000\">'Units'</span>, <span style=\"color: #008000; text-decoration-color: #008000\">'UnitCost'</span>, <span style=\"color: #008000; text-decoration-color: #008000\">'Total'</span><span style=\"font-weight: bold\">]</span>\n",
              "</pre>\n"
            ]
          },
          "metadata": {
            "tags": []
          }
        }
      ]
    },
    {
      "cell_type": "code",
      "metadata": {
        "colab": {
          "base_uri": "https://localhost:8080/",
          "height": 33
        },
        "id": "UfefXJKXrIU0",
        "outputId": "e184f075-3261-4d53-a469-b6be1a56ddbe"
      },
      "source": [
        "cf.excel_get_row_column_count(filepath) #Gets row and column count"
      ],
      "execution_count": 16,
      "outputs": [
        {
          "output_type": "display_data",
          "data": {
            "text/plain": [
              "\u001b[1m(\u001b[0m\u001b[1;36m64\u001b[0m, \u001b[1;36m8\u001b[0m\u001b[1m)\u001b[0m\n"
            ],
            "text/html": [
              "<pre style=\"white-space:pre;overflow-x:auto;line-height:normal;font-family:Menlo,'DejaVu Sans Mono',consolas,'Courier New',monospace\"><span style=\"font-weight: bold\">(</span><span style=\"color: #008080; text-decoration-color: #008080; font-weight: bold\">64</span>, <span style=\"color: #008080; text-decoration-color: #008080; font-weight: bold\">8</span><span style=\"font-weight: bold\">)</span>\n",
              "</pre>\n"
            ]
          },
          "metadata": {
            "tags": []
          }
        }
      ]
    },
    {
      "cell_type": "code",
      "metadata": {
        "colab": {
          "base_uri": "https://localhost:8080/",
          "height": 33
        },
        "id": "PoohGX3brUHo",
        "outputId": "e4f5494b-2831-4767-9f7e-07e720419271"
      },
      "source": [
        "cf.excel_get_all_sheet_names(filepath) #Gets all the sheet names"
      ],
      "execution_count": 17,
      "outputs": [
        {
          "output_type": "display_data",
          "data": {
            "text/plain": [
              "\u001b[1m[\u001b[0m\u001b[32m'Sheet1'\u001b[0m\u001b[1m]\u001b[0m\n"
            ],
            "text/html": [
              "<pre style=\"white-space:pre;overflow-x:auto;line-height:normal;font-family:Menlo,'DejaVu Sans Mono',consolas,'Courier New',monospace\"><span style=\"font-weight: bold\">[</span><span style=\"color: #008000; text-decoration-color: #008000\">'Sheet1'</span><span style=\"font-weight: bold\">]</span>\n",
              "</pre>\n"
            ]
          },
          "metadata": {
            "tags": []
          }
        }
      ]
    },
    {
      "cell_type": "code",
      "metadata": {
        "colab": {
          "base_uri": "https://localhost:8080/",
          "height": 33
        },
        "id": "A2m7yeZbreky",
        "outputId": "a63810a5-27f7-42b6-d7fe-cc34645f35ca"
      },
      "source": [
        "cf.excel_remove_duplicates() #Removes duplicates from a particular column\n",
        "#cf.excel_remove_duplicates(filepath, header=0, columnName= 'ID ') // Non GUI, Remove duplicates from ID column"
      ],
      "execution_count": 18,
      "outputs": [
        {
          "output_type": "display_data",
          "data": {
            "text/plain": [
              "\u001b[1;36m43\u001b[0m\n"
            ],
            "text/html": [
              "<pre style=\"white-space:pre;overflow-x:auto;line-height:normal;font-family:Menlo,'DejaVu Sans Mono',consolas,'Courier New',monospace\"><span style=\"color: #008080; text-decoration-color: #008080; font-weight: bold\">43</span>\n",
              "</pre>\n"
            ]
          },
          "metadata": {
            "tags": []
          }
        }
      ]
    },
    {
      "cell_type": "code",
      "metadata": {
        "colab": {
          "base_uri": "https://localhost:8080/",
          "height": 33
        },
        "id": "k_-LLfjVIvtg",
        "outputId": "275e3c7b-97ab-4825-b4d5-4309bed488be"
      },
      "source": [
        "cf.excel_split_the_file_on_row_count(filepath, rowSplitLimit=12, outputFolderPath= outfold ) #splits the file at row count 12"
      ],
      "execution_count": 24,
      "outputs": [
        {
          "output_type": "display_data",
          "data": {
            "text/plain": [
              "\u001b[3;92mTrue\u001b[0m\n"
            ],
            "text/html": [
              "<pre style=\"white-space:pre;overflow-x:auto;line-height:normal;font-family:Menlo,'DejaVu Sans Mono',consolas,'Courier New',monospace\"><span style=\"color: #00ff00; text-decoration-color: #00ff00; font-style: italic\">True</span>\n",
              "</pre>\n"
            ]
          },
          "metadata": {
            "tags": []
          }
        }
      ]
    },
    {
      "cell_type": "code",
      "metadata": {
        "id": "orG4s4WkxBSM"
      },
      "source": [
        "dictionary = {'ID ':'1027', 'OrderDate':'4/14/2020', 'Region':'East', 'Rep':'Jones', 'Item':'Binder', 'Units':'60','UnitCost':'4.99','Total':'499.1'}"
      ],
      "execution_count": 20,
      "outputs": []
    },
    {
      "cell_type": "code",
      "metadata": {
        "id": "K4Ahb6xZ3GzJ"
      },
      "source": [
        "for key, values in dictionary.items():\n",
        "  cf.excel_set_single_cell(filepath,header=0, columnName=key, cellNumber=43, setText=values) #Enters the values of dictionary at the last row"
      ],
      "execution_count": 21,
      "outputs": []
    },
    {
      "cell_type": "code",
      "metadata": {
        "colab": {
          "base_uri": "https://localhost:8080/"
        },
        "id": "wOKkgWmIABC1",
        "outputId": "6a0689f3-5604-4939-9338-597819eb1402"
      },
      "source": [
        "# Makes a dictionary of ID and Units\n",
        "for i in range(43):\n",
        "  dict = {cf.excel_get_single_cell(filepath, header=0, columnName='ID ', cellNumber=i):cf.excel_get_single_cell(filepath, header=0, columnName='Units', cellNumber=i)}\n",
        "  print(dict.items())\n"
      ],
      "execution_count": 25,
      "outputs": [
        {
          "output_type": "stream",
          "text": [
            "dict_items([(1015, 2)])\n",
            "dict_items([(1016, 16)])\n",
            "dict_items([(1017, 28)])\n",
            "dict_items([(1018, 64)])\n",
            "dict_items([(1019, 15)])\n",
            "dict_items([(1028, 66)])\n",
            "dict_items([(1029, 96)])\n",
            "dict_items([(1030, 53)])\n",
            "dict_items([(1031, 80)])\n",
            "dict_items([(1032, 5)])\n",
            "dict_items([(1033, 62)])\n",
            "dict_items([(1034, 55)])\n",
            "dict_items([(1035, 42)])\n",
            "dict_items([(1036, 3)])\n",
            "dict_items([(1037, 7)])\n",
            "dict_items([(1038, 76)])\n",
            "dict_items([(1039, 57)])\n",
            "dict_items([(1040, 14)])\n",
            "dict_items([(1041, 11)])\n",
            "dict_items([(1042, 94)])\n",
            "dict_items([(1043, 28)])\n",
            "dict_items([(1010, 60)])\n",
            "dict_items([(1011, 90)])\n",
            "dict_items([(1012, 29)])\n",
            "dict_items([(1013, 81)])\n",
            "dict_items([(1014, 35)])\n",
            "dict_items([(1003, 36)])\n",
            "dict_items([(1004, 27)])\n",
            "dict_items([(1005, 56)])\n",
            "dict_items([(1006, 60)])\n",
            "dict_items([(1007, 75)])\n",
            "dict_items([(1024, 87)])\n",
            "dict_items([(1025, 4)])\n",
            "dict_items([(1026, 7)])\n",
            "dict_items([(1027, 50)])\n",
            "dict_items([(1001, 95)])\n",
            "dict_items([(1002, 50)])\n",
            "dict_items([(1008, 90)])\n",
            "dict_items([(1009, 32)])\n",
            "dict_items([(1020, 96)])\n",
            "dict_items([(1021, 67)])\n",
            "dict_items([(1022, 74)])\n",
            "dict_items([(1023, 46)])\n"
          ],
          "name": "stdout"
        }
      ]
    },
    {
      "cell_type": "code",
      "metadata": {
        "id": "ZV2B6WDTMcN0"
      },
      "source": [
        ""
      ],
      "execution_count": null,
      "outputs": []
    },
    {
      "cell_type": "code",
      "metadata": {
        "id": "7QSUUYLitaRz"
      },
      "source": [
        "cf.excel_sort_columns(filepath, header=0, firstColumnToBeSorted='OrderDate', firstColumnSortType=True) #Sort column by specified column name"
      ],
      "execution_count": null,
      "outputs": []
    }
  ]
}