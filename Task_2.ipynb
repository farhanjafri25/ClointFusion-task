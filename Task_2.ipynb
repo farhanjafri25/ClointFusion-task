{
  "nbformat": 4,
  "nbformat_minor": 0,
  "metadata": {
    "colab": {
      "name": "Task 2.ipynb",
      "provenance": [],
      "authorship_tag": "ABX9TyNQkUOcJ/mnHYOhiosF4Wh9",
      "include_colab_link": true
    },
    "kernelspec": {
      "name": "python3",
      "display_name": "Python 3"
    },
    "language_info": {
      "name": "python"
    }
  },
  "cells": [
    {
      "cell_type": "markdown",
      "metadata": {
        "id": "view-in-github",
        "colab_type": "text"
      },
      "source": [
        "<a href=\"https://colab.research.google.com/github/farhanjafri25/ClointFusion-task/blob/main/Task_2.ipynb\" target=\"_parent\"><img src=\"https://colab.research.google.com/assets/colab-badge.svg\" alt=\"Open In Colab\"/></a>"
      ]
    },
    {
      "cell_type": "code",
      "metadata": {
        "id": "OFcvmcVH0BtD"
      },
      "source": [
        "import ClointFusion as cf"
      ],
      "execution_count": 258,
      "outputs": []
    },
    {
      "cell_type": "code",
      "metadata": {
        "id": "6BYt6cK21MKp"
      },
      "source": [
        "import cryptocode"
      ],
      "execution_count": 260,
      "outputs": []
    },
    {
      "cell_type": "code",
      "metadata": {
        "id": "f3cD9pye1Mr8"
      },
      "source": [
        "login_button = cf.gui_get_any_file_from_user('Enter the login button image') #To store the image of login button which appears at the top right of the screen of Flipkart"
      ],
      "execution_count": 259,
      "outputs": []
    },
    {
      "cell_type": "code",
      "metadata": {
        "id": "FvpdIhD24e6D"
      },
      "source": [
        "search_bar = cf.gui_get_any_file_from_user('Enter the search bar img') #Stores the search bar img present at Flipkart "
      ],
      "execution_count": 261,
      "outputs": []
    },
    {
      "cell_type": "code",
      "metadata": {
        "id": "b3X738-__zQJ"
      },
      "source": [
        "item1 = cf.gui_get_any_file_from_user('Enter the 131 headset image') #Stores the Boat 131 headset image"
      ],
      "execution_count": 262,
      "outputs": []
    },
    {
      "cell_type": "code",
      "metadata": {
        "id": "yQb5-4Jd_zBo"
      },
      "source": [
        "item2 = cf.gui_get_any_file_from_user('Enter the 402 headset image') #Boat 402 headset image"
      ],
      "execution_count": 263,
      "outputs": []
    },
    {
      "cell_type": "code",
      "metadata": {
        "id": "bM0P_W4k8pS4"
      },
      "source": [
        "add_cart = cf.gui_get_any_file_from_user('Enter the add cart logo img') #Store the \"Add to cart\" button image"
      ],
      "execution_count": 264,
      "outputs": []
    },
    {
      "cell_type": "code",
      "metadata": {
        "id": "Ea2X3ieeBCWV"
      },
      "source": [
        "placeorder = cf.gui_get_any_file_from_user('Enter the place order button img') #Store the \"Place order\" button image "
      ],
      "execution_count": 265,
      "outputs": []
    },
    {
      "cell_type": "code",
      "metadata": {
        "id": "lTy_Jr3NWDPr"
      },
      "source": [
        "close_btn = cf.gui_get_any_file_from_user() #Store the close button"
      ],
      "execution_count": 266,
      "outputs": []
    },
    {
      "cell_type": "code",
      "metadata": {
        "id": "2vTVu8LivjjM"
      },
      "source": [
        "email_or_phone = cf.gui_get_any_input_from_user('Enter your email or phone number') #Store the Email or phone number of the user\n"
      ],
      "execution_count": 267,
      "outputs": []
    },
    {
      "cell_type": "code",
      "metadata": {
        "id": "BFV8xy65v2ht"
      },
      "source": [
        "password = cf.gui_get_any_input_from_user('Enter password', password=True) #Stores the password of user in encrypted form"
      ],
      "execution_count": 268,
      "outputs": []
    },
    {
      "cell_type": "code",
      "metadata": {
        "id": "8GEod5JTwTVO"
      },
      "source": [
        "def searchbar(search_bar): #Function to find and click on the search bar \n",
        "  cf.mouse_search_snip_return_coordinates_x_y(search_bar,conf=0.8)\n",
        "  cf.mouse_click(*cf.mouse_search_snip_return_coordinates_x_y(search_bar,conf=0.8))"
      ],
      "execution_count": 269,
      "outputs": []
    },
    {
      "cell_type": "code",
      "metadata": {
        "id": "nL-mhDio7gt-"
      },
      "source": [
        "def addcart(add_cart): #Function to find and click Add to cart button\n",
        "  cf.mouse_search_snip_return_coordinates_x_y(add_cart,conf=0.8)\n",
        "  cf.mouse_click(*cf.mouse_search_snip_return_coordinates_x_y(add_cart,conf=0.8))"
      ],
      "execution_count": 270,
      "outputs": []
    },
    {
      "cell_type": "code",
      "metadata": {
        "id": "9XrQNjE13aqe"
      },
      "source": [
        "cf.launch_any_exe_bat_application('Chrome') #Launches Chrome Browser\n",
        "cf.key_write_enter('https://www.flipkart.com') #Writes Flipkart on the search button, The button is already selected in chrome"
      ],
      "execution_count": 271,
      "outputs": []
    },
    {
      "cell_type": "code",
      "metadata": {
        "colab": {
          "base_uri": "https://localhost:8080/",
          "height": 33
        },
        "id": "sbmCOBSf1WSz",
        "outputId": "90249c2c-aca1-4f30-80d7-b182fa12596f"
      },
      "source": [
        "cf.mouse_search_snip_return_coordinates_x_y(login_button,wait=3, conf=0.8) #Finds and clicks on the login button\n",
        "cf.mouse_click(*cf.mouse_search_snip_return_coordinates_x_y(login_button, conf=0.8))\n"
      ],
      "execution_count": 274,
      "outputs": [
        {
          "output_type": "display_data",
          "data": {
            "text/plain": [
              "\u001b[32m''\u001b[0m\n"
            ],
            "text/html": [
              "<pre style=\"white-space:pre;overflow-x:auto;line-height:normal;font-family:Menlo,'DejaVu Sans Mono',consolas,'Courier New',monospace\"><span style=\"color: #008000; text-decoration-color: #008000\">''</span>\n",
              "</pre>\n"
            ]
          },
          "metadata": {
            "tags": []
          }
        }
      ]
    },
    {
      "cell_type": "code",
      "metadata": {
        "id": "-unTAThtup7x"
      },
      "source": [
        "cf.key_write_enter(email_or_phone) #enters email and password\n",
        "cf.key_press('tab')\n",
        "cf.key_write_enter(password)"
      ],
      "execution_count": 275,
      "outputs": []
    },
    {
      "cell_type": "code",
      "metadata": {
        "id": "pTc5bUi27gxR"
      },
      "source": [
        "searchbar(search_bar) #calls the Searchbar function"
      ],
      "execution_count": 276,
      "outputs": []
    },
    {
      "cell_type": "code",
      "metadata": {
        "id": "ZMylXzF15EFl"
      },
      "source": [
        "cf.key_write_enter('boAt Airdopes 131 Bluetooth Headset') #Enters our product 131 headset"
      ],
      "execution_count": 277,
      "outputs": []
    },
    {
      "cell_type": "code",
      "metadata": {
        "colab": {
          "base_uri": "https://localhost:8080/",
          "height": 33
        },
        "id": "pTHFeAk25D43",
        "outputId": "432c05fb-192a-451d-f477-ae86d40fa9dc"
      },
      "source": [
        "cf.mouse_search_snip_return_coordinates_x_y(item1,conf=0.8) #Finds and clicks on the Headphone image present on our screen\n",
        "cf.mouse_click(*cf.mouse_search_snip_return_coordinates_x_y(item1,conf=0.8))"
      ],
      "execution_count": 278,
      "outputs": [
        {
          "output_type": "display_data",
          "data": {
            "text/plain": [
              "\u001b[32m''\u001b[0m\n"
            ],
            "text/html": [
              "<pre style=\"white-space:pre;overflow-x:auto;line-height:normal;font-family:Menlo,'DejaVu Sans Mono',consolas,'Courier New',monospace\"><span style=\"color: #008000; text-decoration-color: #008000\">''</span>\n",
              "</pre>\n"
            ]
          },
          "metadata": {
            "tags": []
          }
        }
      ]
    },
    {
      "cell_type": "code",
      "metadata": {
        "id": "Nt8pBVUnCWOY"
      },
      "source": [
        "addcart(add_cart) #addcart function"
      ],
      "execution_count": 279,
      "outputs": []
    },
    {
      "cell_type": "code",
      "metadata": {
        "id": "3DxocZosCbIC"
      },
      "source": [
        "searchbar(search_bar)"
      ],
      "execution_count": 280,
      "outputs": []
    },
    {
      "cell_type": "code",
      "metadata": {
        "id": "sgUuBEJF-A59"
      },
      "source": [
        "cf.key_write_enter('boAt Airdopes 402 Bluetooth Headset')"
      ],
      "execution_count": 281,
      "outputs": []
    },
    {
      "cell_type": "code",
      "metadata": {
        "colab": {
          "base_uri": "https://localhost:8080/",
          "height": 33
        },
        "id": "1H9BY2f2-AtF",
        "outputId": "fc8e25b1-9463-44d8-ea6c-da01c5ffefb7"
      },
      "source": [
        "cf.mouse_search_snip_return_coordinates_x_y(item2,conf=0.8)\n",
        "cf.mouse_click(*cf.mouse_search_snip_return_coordinates_x_y(item2,conf=0.8))"
      ],
      "execution_count": 282,
      "outputs": [
        {
          "output_type": "display_data",
          "data": {
            "text/plain": [
              "\u001b[32m''\u001b[0m\n"
            ],
            "text/html": [
              "<pre style=\"white-space:pre;overflow-x:auto;line-height:normal;font-family:Menlo,'DejaVu Sans Mono',consolas,'Courier New',monospace\"><span style=\"color: #008000; text-decoration-color: #008000\">''</span>\n",
              "</pre>\n"
            ]
          },
          "metadata": {
            "tags": []
          }
        }
      ]
    },
    {
      "cell_type": "code",
      "metadata": {
        "id": "5ksgy5xmAID1"
      },
      "source": [
        "addcart(add_cart)"
      ],
      "execution_count": 283,
      "outputs": []
    },
    {
      "cell_type": "code",
      "metadata": {
        "colab": {
          "base_uri": "https://localhost:8080/",
          "height": 33
        },
        "id": "A3Krm2QEAIAf",
        "outputId": "4ced9a22-9e0d-4aed-fffb-efdf591a9bd9"
      },
      "source": [
        "cf.mouse_search_snip_return_coordinates_x_y(placeorder) #Finds and clicks on placeorder button and get us to the Payment page\n",
        "cf.mouse_click(*cf.mouse_search_snip_return_coordinates_x_y(placeorder))"
      ],
      "execution_count": 284,
      "outputs": [
        {
          "output_type": "display_data",
          "data": {
            "text/plain": [
              "\u001b[32m''\u001b[0m\n"
            ],
            "text/html": [
              "<pre style=\"white-space:pre;overflow-x:auto;line-height:normal;font-family:Menlo,'DejaVu Sans Mono',consolas,'Courier New',monospace\"><span style=\"color: #008000; text-decoration-color: #008000\">''</span>\n",
              "</pre>\n"
            ]
          },
          "metadata": {
            "tags": []
          }
        }
      ]
    },
    {
      "cell_type": "code",
      "metadata": {
        "colab": {
          "base_uri": "https://localhost:8080/",
          "height": 33
        },
        "id": "GtO_KT599myv",
        "outputId": "6f12e25c-f2b9-45e8-9b8d-f77a923f04f6"
      },
      "source": [
        "cf.mouse_search_snip_return_coordinates_x_y(close_btn)\n",
        "cf.mouse_click(*cf.mouse_search_snip_return_coordinates_x_y(close_btn))"
      ],
      "execution_count": 285,
      "outputs": [
        {
          "output_type": "display_data",
          "data": {
            "text/plain": [
              "\u001b[32m''\u001b[0m\n"
            ],
            "text/html": [
              "<pre style=\"white-space:pre;overflow-x:auto;line-height:normal;font-family:Menlo,'DejaVu Sans Mono',consolas,'Courier New',monospace\"><span style=\"color: #008000; text-decoration-color: #008000\">''</span>\n",
              "</pre>\n"
            ]
          },
          "metadata": {
            "tags": []
          }
        }
      ]
    }
  ]
}